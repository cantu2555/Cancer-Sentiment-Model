{
 "cells": [
  {
   "cell_type": "markdown",
   "id": "7411fc69-1cc3-4e41-b0a6-3d834959b83d",
   "metadata": {
    "tags": []
   },
   "source": [
    "# Carlos Cantu  \n",
    "# Sentiment Model "
   ]
  },
  {
   "cell_type": "markdown",
   "id": "c9acf1b7-b0bf-436f-bfe4-625ba1f940c4",
   "metadata": {},
   "source": [
    "# Milestone 1"
   ]
  },
  {
   "cell_type": "markdown",
   "id": "eaeb297f-f0b2-4c39-bae5-b8b3c1c10e80",
   "metadata": {},
   "source": [
    "Cancer, a devastating disease characterized by the uncontrolled division of abnormal cells leading to the destruction of body tissues, remains a formidable challenge despite significant advancements in modern medicine. While tremendous strides have been made in the fight against cancer, it is essential to recognize that the battle for life not only impacts the physical aspect but also profoundly affects the mental well-being of patients. Understanding the psychological state of individuals diagnosed with different forms of cancer is paramount for medical professionals. It directly influences treatment adherence, necessitates the development of effective coping strategies, calls for targeted communication approaches, and underscores the importance of providing holistic patient care.\n",
    "\n",
    "The significance of comprehending the mental state of cancer patients is underscored by its far-reaching implications on their overall health outcomes. Patients grappling with the emotional toll of cancer may face challenges in adhering to prescribed treatments, making it imperative for healthcare providers to tailor interventions that address both the physical and psychological dimensions of their well-being.\n",
    "\n",
    "In line with this, our analysis aims to undergo the development of a sentiment model, utilizing the dataset labeled \"Mental_Health.\" This dataset encompasses five key columns, including:\n",
    "\n",
    "    Text Responses of Patients and Caregivers:\n",
    "        This column holds valuable qualitative data, offering insights into the sentiments expressed by patients and their caregivers.\n",
    "\n",
    "    Sentiment Prediction:\n",
    "        The sentiment prediction column provides a quantitative assessment of the emotional tone in the text responses, helping to categorize sentiments as positive, negative, or neutral.\n",
    "\n",
    "    Intensity (Scale of -2 to 1):\n",
    "        Intensity, measured on a scale from -2 to 1, provides a nuanced understanding of the strength of emotions expressed in the text.\n",
    "\n",
    "    Type of Cancer:\n",
    "        This column categorizes the type of cancer diagnosed in each patient, providing context for understanding potential variations in emotional responses across different cancer types.\n",
    "\n",
    "    Hospital of Patient:\n",
    "        The hospital column identifies the healthcare facility associated with each patient, which could influence the overall patient experience and emotional well-being.\n",
    "\n",
    "Our initial exploration will delve into the various features and characteristics present in the \"Mental_Health\" dataset. This exploration is pivotal for gaining insights into the emotional aspects of patients undergoing cancer, paving the way for the development of a robust sentiment model. By deciphering patterns within the data, we aim to better understand and predict the mental states of patients, contributing to more personalized and empathetic healthcare interventions for those navigating the complex journey of cancer diagnosis and treatment."
   ]
  },
  {
   "cell_type": "markdown",
   "id": "721a6e43-4d84-4460-ba98-aca02e57f1fb",
   "metadata": {},
   "source": [
    "## Load the data set "
   ]
  },
  {
   "cell_type": "code",
   "execution_count": 5,
   "id": "9017a4f6-8a5d-4241-9f6e-b275f514b2d1",
   "metadata": {
    "ExecuteTime": {
     "end_time": "2024-02-06T00:20:50.873970Z",
     "start_time": "2024-02-06T00:20:50.544709Z"
    },
    "tags": []
   },
   "outputs": [
    {
     "data": {
      "text/html": [
       "<div>\n",
       "<style scoped>\n",
       "    .dataframe tbody tr th:only-of-type {\n",
       "        vertical-align: middle;\n",
       "    }\n",
       "\n",
       "    .dataframe tbody tr th {\n",
       "        vertical-align: top;\n",
       "    }\n",
       "\n",
       "    .dataframe thead th {\n",
       "        text-align: right;\n",
       "    }\n",
       "</style>\n",
       "<table border=\"1\" class=\"dataframe\">\n",
       "  <thead>\n",
       "    <tr style=\"text-align: right;\">\n",
       "      <th></th>\n",
       "      <th>posts</th>\n",
       "      <th>predicted</th>\n",
       "      <th>intensity</th>\n",
       "      <th>cancer</th>\n",
       "      <th>hospital</th>\n",
       "    </tr>\n",
       "  </thead>\n",
       "  <tbody>\n",
       "    <tr>\n",
       "      <th>0</th>\n",
       "      <td>I know as parent of child with down syndrome t...</td>\n",
       "      <td>negative</td>\n",
       "      <td>-1</td>\n",
       "      <td>Leukemia</td>\n",
       "      <td>Harris Health</td>\n",
       "    </tr>\n",
       "    <tr>\n",
       "      <th>1</th>\n",
       "      <td>but in my heart I know this is the future prom...</td>\n",
       "      <td>neutral</td>\n",
       "      <td>0</td>\n",
       "      <td>Lung</td>\n",
       "      <td>Lubbock Heart</td>\n",
       "    </tr>\n",
       "    <tr>\n",
       "      <th>2</th>\n",
       "      <td>I have mylefibrosis which turn to leukemia the...</td>\n",
       "      <td>negative</td>\n",
       "      <td>-1</td>\n",
       "      <td>Lung</td>\n",
       "      <td>Harris Health</td>\n",
       "    </tr>\n",
       "    <tr>\n",
       "      <th>3</th>\n",
       "      <td>from one of my health group subject wayne dyer...</td>\n",
       "      <td>neutral</td>\n",
       "      <td>0</td>\n",
       "      <td>Lung</td>\n",
       "      <td>Methodist</td>\n",
       "    </tr>\n",
       "    <tr>\n",
       "      <th>4</th>\n",
       "      <td>gmos now link to leukemia http nsnbc I 2013 07...</td>\n",
       "      <td>neutral</td>\n",
       "      <td>0</td>\n",
       "      <td>Lung</td>\n",
       "      <td>Lubbock Heart</td>\n",
       "    </tr>\n",
       "    <tr>\n",
       "      <th>...</th>\n",
       "      <td>...</td>\n",
       "      <td>...</td>\n",
       "      <td>...</td>\n",
       "      <td>...</td>\n",
       "      <td>...</td>\n",
       "    </tr>\n",
       "    <tr>\n",
       "      <th>10387</th>\n",
       "      <td>hey everyone I am a 25 year old male I work ou...</td>\n",
       "      <td>negative</td>\n",
       "      <td>-1</td>\n",
       "      <td>Leukemia</td>\n",
       "      <td>Lubbock Heart</td>\n",
       "    </tr>\n",
       "    <tr>\n",
       "      <th>10388</th>\n",
       "      <td>have surgery for stage 1 colon cancer 1 year a...</td>\n",
       "      <td>very negative</td>\n",
       "      <td>-2</td>\n",
       "      <td>Brain</td>\n",
       "      <td>Eastland Memorial</td>\n",
       "    </tr>\n",
       "    <tr>\n",
       "      <th>10389</th>\n",
       "      <td>the doctor advise we he could not remove the a...</td>\n",
       "      <td>neutral</td>\n",
       "      <td>0</td>\n",
       "      <td>Liver</td>\n",
       "      <td>Methodist</td>\n",
       "    </tr>\n",
       "    <tr>\n",
       "      <th>10390</th>\n",
       "      <td>my 66 year old father have been through so muc...</td>\n",
       "      <td>neutral</td>\n",
       "      <td>0</td>\n",
       "      <td>Brain</td>\n",
       "      <td>Harris Health</td>\n",
       "    </tr>\n",
       "    <tr>\n",
       "      <th>10391</th>\n",
       "      <td>I have bein have a bloody stool since last yea...</td>\n",
       "      <td>negative</td>\n",
       "      <td>-1</td>\n",
       "      <td>Lung</td>\n",
       "      <td>Lubbock Heart</td>\n",
       "    </tr>\n",
       "  </tbody>\n",
       "</table>\n",
       "<p>10392 rows × 5 columns</p>\n",
       "</div>"
      ],
      "text/plain": [
       "                                                   posts      predicted  \\\n",
       "0      I know as parent of child with down syndrome t...       negative   \n",
       "1      but in my heart I know this is the future prom...        neutral   \n",
       "2      I have mylefibrosis which turn to leukemia the...       negative   \n",
       "3      from one of my health group subject wayne dyer...        neutral   \n",
       "4      gmos now link to leukemia http nsnbc I 2013 07...        neutral   \n",
       "...                                                  ...            ...   \n",
       "10387  hey everyone I am a 25 year old male I work ou...       negative   \n",
       "10388  have surgery for stage 1 colon cancer 1 year a...  very negative   \n",
       "10389  the doctor advise we he could not remove the a...        neutral   \n",
       "10390  my 66 year old father have been through so muc...        neutral   \n",
       "10391  I have bein have a bloody stool since last yea...       negative   \n",
       "\n",
       "       intensity    cancer           hospital  \n",
       "0             -1  Leukemia      Harris Health  \n",
       "1              0      Lung      Lubbock Heart  \n",
       "2             -1      Lung      Harris Health  \n",
       "3              0      Lung          Methodist  \n",
       "4              0      Lung      Lubbock Heart  \n",
       "...          ...       ...                ...  \n",
       "10387         -1  Leukemia      Lubbock Heart  \n",
       "10388         -2     Brain  Eastland Memorial  \n",
       "10389          0     Liver          Methodist  \n",
       "10390          0     Brain      Harris Health  \n",
       "10391         -1      Lung      Lubbock Heart  \n",
       "\n",
       "[10392 rows x 5 columns]"
      ]
     },
     "execution_count": 5,
     "metadata": {},
     "output_type": "execute_result"
    }
   ],
   "source": [
    "import pandas as pd \n",
    "df = pd.read_csv('/Users/cantu/Documents/Data Science Masters/Data Mining DSC550/Source Files 550/Mental_Health.csv')\n",
    "df"
   ]
  },
  {
   "cell_type": "markdown",
   "id": "58c58c37-3941-4d55-8084-6b7f395ce9e0",
   "metadata": {},
   "source": [
    "## Exploratory Graphical Analysis"
   ]
  },
  {
   "cell_type": "markdown",
   "id": "d0ffc207-7444-4d2f-979f-a3e0630a0255",
   "metadata": {},
   "source": [
    "### Distribution of 'predicted'"
   ]
  },
  {
   "cell_type": "code",
   "execution_count": 8,
   "id": "f7f9ffff-ae91-473f-a846-28ff58b5ca07",
   "metadata": {
    "ExecuteTime": {
     "end_time": "2024-02-06T00:20:51.067543Z",
     "start_time": "2024-02-06T00:20:50.883160Z"
    },
    "tags": []
   },
   "outputs": [
    {
     "data": {
      "image/png": "[encoded data removed]",
      "text/plain": [
       "<Figure size 800x600 with 1 Axes>"
      ]
     },
     "metadata": {},
     "output_type": "display_data"
    }
   ],
   "source": [
    "import matplotlib.pyplot as plt\n",
    "\n",
    "plt.figure(figsize=(8, 6))\n",
    "plt.hist(df['predicted'], bins= 10, color='purple', edgecolor='gold')\n",
    "\n",
    "# lables \n",
    "plt.xlabel('Sentiment Intensity')\n",
    "plt.ylabel('Frequency')\n",
    "plt.title('Distribution of Predicted Sentiment Intensity')\n",
    "\n",
    "#  plot\n",
    "plt.show()\n"
   ]
  },
  {
   "cell_type": "markdown",
   "id": "b9ccc750-1d92-49b3-801e-c65a57075bcd",
   "metadata": {},
   "source": [
    "The prevailing trend of a high distribution in negativity and a lower frequency of very negative responses is noteworthy. It suggests that, on average, sentiments expressed by patients tend to lean towards the neutral and negative spectrum. This observation aligns with the expectation that discussions about health conditions, such as cancer, often involve concerns, challenges, and emotional struggles."
   ]
  },
  {
   "cell_type": "markdown",
   "id": "53f862a0-1267-41e2-8700-4a3ba578d1be",
   "metadata": {},
   "source": [
    "### Intensity and Predicted Scatter "
   ]
  },
  {
   "cell_type": "code",
   "execution_count": 11,
   "id": "af175c9d-3fb9-45b0-a437-3f3e17dd4795",
   "metadata": {
    "ExecuteTime": {
     "end_time": "2024-02-06T00:20:51.319730Z",
     "start_time": "2024-02-06T00:20:51.048093Z"
    },
    "tags": []
   },
   "outputs": [
    {
     "data": {
      "image/png": "[encoded data removed]",
      "text/plain": [
       "<Figure size 800x600 with 1 Axes>"
      ]
     },
     "metadata": {},
     "output_type": "display_data"
    }
   ],
   "source": [
    "plt.figure(figsize=(8,6))\n",
    "plt.scatter(df['predicted'], df['intensity'], c=df['intensity'], cmap='viridis', alpha=0.7)\n",
    "\n",
    "# labels\n",
    "plt.xlabel('Predicted Sentiment')\n",
    "plt.ylabel('Intensity')\n",
    "plt.title('Scatter Plot of Predicted Sentiment vs. Intensity')\n",
    "\n",
    "# show \n",
    "plt.show() "
   ]
  },
  {
   "cell_type": "markdown",
   "id": "0f25ffdc-dfec-4975-ba50-fb2b9c5a5272",
   "metadata": {},
   "source": [
    "Visualizing the mapping of sentiment intensity to sentiment predictions, ranging from -2 (very negative) to 1 (positive), provides a nuanced understanding of emotional dynamics within the dataset. "
   ]
  },
  {
   "cell_type": "markdown",
   "id": "29e1f8ec-4420-4d07-8252-f790cf8b92b0",
   "metadata": {},
   "source": [
    "### Understanding the Distribution of Cancer Types "
   ]
  },
  {
   "cell_type": "code",
   "execution_count": 14,
   "id": "4c07b562-b5cf-40b6-ade8-d5114083fb38",
   "metadata": {
    "ExecuteTime": {
     "end_time": "2024-02-06T00:20:51.413707Z",
     "start_time": "2024-02-06T00:20:51.270484Z"
    },
    "tags": []
   },
   "outputs": [
    {
     "data": {
      "image/png": "[encoded data removed]",
      "text/plain": [
       "<Figure size 800x600 with 1 Axes>"
      ]
     },
     "metadata": {},
     "output_type": "display_data"
    }
   ],
   "source": [
    "cancer_count = df['cancer'].value_counts()\n",
    "# find unique cancer\n",
    "cancer_type = cancer_count.index\n",
    "counts = cancer_count.values \n",
    "\n",
    "# plot\n",
    "plt.figure(figsize=(8,6))\n",
    "plt.bar(cancer_type, counts, color='black', edgecolor='gold')\n",
    "\n",
    "# lables \n",
    "plt.xlabel('Cancer Type')\n",
    "plt.ylabel('Frequency')\n",
    "plt.title('Distribution of Posts by Cancer Type')\n",
    "\n",
    "#  better readability\n",
    "plt.xticks(rotation=45, ha='right')\n",
    "\n",
    "# show \n",
    "plt.show()\n"
   ]
  },
  {
   "cell_type": "markdown",
   "id": "1c6a22ef-11b6-42d7-a396-a7c0c9ce70db",
   "metadata": {},
   "source": [
    "The evenly distributed nature of the various cancer types, as depicted in the bar chart, suggests that the type of cancer does not exert a substantial influence on the overall sentiment expressed in the dataset. This observation implies a degree of universality in the emotional experiences shared across different cancer categories. "
   ]
  },
  {
   "cell_type": "markdown",
   "id": "65f57864-b655-4693-b129-a58b85e9ae22",
   "metadata": {},
   "source": [
    "### Understanding the Distribution of Hospitals  "
   ]
  },
  {
   "cell_type": "code",
   "execution_count": 17,
   "id": "50ab02ae-215c-4a96-ae3b-769e4cf687d7",
   "metadata": {
    "ExecuteTime": {
     "end_time": "2024-02-06T00:20:51.514284Z",
     "start_time": "2024-02-06T00:20:51.353645Z"
    },
    "tags": []
   },
   "outputs": [
    {
     "data": {
      "image/png": "[encoded data removed]",
      "text/plain": [
       "<Figure size 800x600 with 1 Axes>"
      ]
     },
     "metadata": {},
     "output_type": "display_data"
    }
   ],
   "source": [
    "plt.figure(figsize=(8, 6))\n",
    "plt.hist(df['hospital'], bins= 10, color='gold', edgecolor='purple')\n",
    "plt.xticks(rotation=45, ha='right') # rotates the hospitals they were overlapping\n",
    "# lables \n",
    "plt.xlabel('Hospital')\n",
    "plt.ylabel('Frequency')\n",
    "plt.title('Distribution of Hospitals')\n",
    "\n",
    "#  plot\n",
    "plt.show()"
   ]
  },
  {
   "cell_type": "markdown",
   "id": "2f97e268-1a7b-4030-8f00-69d1b699c11d",
   "metadata": {},
   "source": [
    "Initially assuming that hospital data would be arbitrary and trivial, with no significant impact on a patient's mental health, the exploration of the predictive sentiment model aimed to confirm this hypothesis. The distribution of sentiments across different hospitals, as depicted in the histogram, indeed reveals a relatively even spread. This even distribution suggests that the choice of hospital does not exert a discernible influence on the sentiments expressed in the dataset. These results align with the expectation that sentiments related to health discussions may be more influenced by universal factors, such as the nature of the medical condition, treatment experiences, and emotional challenges, rather than specific hospital affiliations."
   ]
  },
  {
   "cell_type": "markdown",
   "id": "99c03b58-d1c8-4a34-a172-e1462e7379d2",
   "metadata": {
    "tags": []
   },
   "source": [
    "### Graphical Analysis Overview "
   ]
  },
  {
   "cell_type": "markdown",
   "id": "ca3d51a8-4876-48c7-93c8-02dac6599fe8",
   "metadata": {},
   "source": [
    "The sentiment analysis of the dataset indicates a prevailing tendency towards neutral and negative sentiments, particularly evident in discussions related to cancer. The visualization of sentiment intensity against sentiment predictions adds nuance to our understanding of the emotional spectrum, spanning from -2 (very negative) to 1 (positive). The uniform distribution of various cancer types suggests that the specific type of cancer does not significantly influence overall sentiment expression, supporting the notion of a universal emotional experience across different cancer categories and emphasizing its negligible impact on sentiment. As expected, the choice of hospital also proves to be inconsequential to sentiments, evidenced by an evenly distributed histogram. In light of these insights, it is recommended to exclude trivial data related to cancer types and hospitals from the dataset, further underscoring the impact of universal factors, such as the nature of medical condition has, when interpreting sentiments within health-related discussions."
   ]
  },
  {
   "cell_type": "markdown",
   "id": "7eaa6f5e2f455184",
   "metadata": {},
   "source": [
    "# Data Preperation"
   ]
  },
  {
   "cell_type": "markdown",
   "id": "cc85bf9104b80b75",
   "metadata": {},
   "source": [
    "## Removing trivial Data "
   ]
  },
  {
   "cell_type": "markdown",
   "id": "c611472933acd9a5",
   "metadata": {},
   "source": [
    "During the preliminary visual analysis, it was observed that the terms \"cancer\" and \"hospital\" contribute trivial data that does not significantly impact the sentiment or intensity of patient and caregiver posts. In consideration of this finding, we have decided to exclude these variables from the dataset. This strategic removal aims to refine the dataset, allowing the construction of a model based solely on relevant and impactful data points.\n"
   ]
  },
  {
   "cell_type": "code",
   "execution_count": 24,
   "id": "cc795e88e49d30b5",
   "metadata": {
    "ExecuteTime": {
     "end_time": "2024-02-06T00:20:51.514941Z",
     "start_time": "2024-02-06T00:20:51.458598Z"
    },
    "collapsed": false,
    "jupyter": {
     "outputs_hidden": false
    }
   },
   "outputs": [
    {
     "data": {
      "text/html": [
       "<div>\n",
       "<style scoped>\n",
       "    .dataframe tbody tr th:only-of-type {\n",
       "        vertical-align: middle;\n",
       "    }\n",
       "\n",
       "    .dataframe tbody tr th {\n",
       "        vertical-align: top;\n",
       "    }\n",
       "\n",
       "    .dataframe thead th {\n",
       "        text-align: right;\n",
       "    }\n",
       "</style>\n",
       "<table border=\"1\" class=\"dataframe\">\n",
       "  <thead>\n",
       "    <tr style=\"text-align: right;\">\n",
       "      <th></th>\n",
       "      <th>posts</th>\n",
       "      <th>predicted</th>\n",
       "      <th>intensity</th>\n",
       "    </tr>\n",
       "  </thead>\n",
       "  <tbody>\n",
       "    <tr>\n",
       "      <th>0</th>\n",
       "      <td>I know as parent of child with down syndrome t...</td>\n",
       "      <td>negative</td>\n",
       "      <td>-1</td>\n",
       "    </tr>\n",
       "    <tr>\n",
       "      <th>1</th>\n",
       "      <td>but in my heart I know this is the future prom...</td>\n",
       "      <td>neutral</td>\n",
       "      <td>0</td>\n",
       "    </tr>\n",
       "    <tr>\n",
       "      <th>2</th>\n",
       "      <td>I have mylefibrosis which turn to leukemia the...</td>\n",
       "      <td>negative</td>\n",
       "      <td>-1</td>\n",
       "    </tr>\n",
       "    <tr>\n",
       "      <th>3</th>\n",
       "      <td>from one of my health group subject wayne dyer...</td>\n",
       "      <td>neutral</td>\n",
       "      <td>0</td>\n",
       "    </tr>\n",
       "    <tr>\n",
       "      <th>4</th>\n",
       "      <td>gmos now link to leukemia http nsnbc I 2013 07...</td>\n",
       "      <td>neutral</td>\n",
       "      <td>0</td>\n",
       "    </tr>\n",
       "    <tr>\n",
       "      <th>...</th>\n",
       "      <td>...</td>\n",
       "      <td>...</td>\n",
       "      <td>...</td>\n",
       "    </tr>\n",
       "    <tr>\n",
       "      <th>10387</th>\n",
       "      <td>hey everyone I am a 25 year old male I work ou...</td>\n",
       "      <td>negative</td>\n",
       "      <td>-1</td>\n",
       "    </tr>\n",
       "    <tr>\n",
       "      <th>10388</th>\n",
       "      <td>have surgery for stage 1 colon cancer 1 year a...</td>\n",
       "      <td>very negative</td>\n",
       "      <td>-2</td>\n",
       "    </tr>\n",
       "    <tr>\n",
       "      <th>10389</th>\n",
       "      <td>the doctor advise we he could not remove the a...</td>\n",
       "      <td>neutral</td>\n",
       "      <td>0</td>\n",
       "    </tr>\n",
       "    <tr>\n",
       "      <th>10390</th>\n",
       "      <td>my 66 year old father have been through so muc...</td>\n",
       "      <td>neutral</td>\n",
       "      <td>0</td>\n",
       "    </tr>\n",
       "    <tr>\n",
       "      <th>10391</th>\n",
       "      <td>I have bein have a bloody stool since last yea...</td>\n",
       "      <td>negative</td>\n",
       "      <td>-1</td>\n",
       "    </tr>\n",
       "  </tbody>\n",
       "</table>\n",
       "<p>10392 rows × 3 columns</p>\n",
       "</div>"
      ],
      "text/plain": [
       "                                                   posts      predicted  \\\n",
       "0      I know as parent of child with down syndrome t...       negative   \n",
       "1      but in my heart I know this is the future prom...        neutral   \n",
       "2      I have mylefibrosis which turn to leukemia the...       negative   \n",
       "3      from one of my health group subject wayne dyer...        neutral   \n",
       "4      gmos now link to leukemia http nsnbc I 2013 07...        neutral   \n",
       "...                                                  ...            ...   \n",
       "10387  hey everyone I am a 25 year old male I work ou...       negative   \n",
       "10388  have surgery for stage 1 colon cancer 1 year a...  very negative   \n",
       "10389  the doctor advise we he could not remove the a...        neutral   \n",
       "10390  my 66 year old father have been through so muc...        neutral   \n",
       "10391  I have bein have a bloody stool since last yea...       negative   \n",
       "\n",
       "       intensity  \n",
       "0             -1  \n",
       "1              0  \n",
       "2             -1  \n",
       "3              0  \n",
       "4              0  \n",
       "...          ...  \n",
       "10387         -1  \n",
       "10388         -2  \n",
       "10389          0  \n",
       "10390          0  \n",
       "10391         -1  \n",
       "\n",
       "[10392 rows x 3 columns]"
      ]
     },
     "execution_count": 24,
     "metadata": {},
     "output_type": "execute_result"
    }
   ],
   "source": [
    "# drop columns \n",
    "columns_to_drop = ['hospital', 'cancer']\n",
    "df = df.drop(columns_to_drop, axis=1)\n",
    "df"
   ]
  },
  {
   "cell_type": "markdown",
   "id": "7285161c1be0d45e",
   "metadata": {},
   "source": [
    "## Convert Post Strings To Lowercase "
   ]
  },
  {
   "cell_type": "markdown",
   "id": "ab0c23573dd5dbfc",
   "metadata": {},
   "source": [
    "Converting strings to lowercase is a crucial step in preparing data for a sentiment model. This practice ensures consistency throughout the text, preventing the model from treating words with the same meaning but different cases as distinct entities. Sentiment analysis models rely on identifying patterns and relationships within the text, and maintaining uniform casing helps capture these patterns accurately. "
   ]
  },
  {
   "cell_type": "code",
   "execution_count": 27,
   "id": "af033bedd76f1c26",
   "metadata": {
    "ExecuteTime": {
     "end_time": "2024-02-06T00:20:51.621384Z",
     "start_time": "2024-02-06T00:20:51.485750Z"
    },
    "collapsed": false,
    "jupyter": {
     "outputs_hidden": false
    }
   },
   "outputs": [],
   "source": [
    "# convert to lower\n",
    "df['posts'] = df['posts'].astype(str).str.lower()"
   ]
  },
  {
   "cell_type": "code",
   "execution_count": 28,
   "id": "9dcff77a56467f45",
   "metadata": {
    "ExecuteTime": {
     "end_time": "2024-02-06T00:20:51.622416Z",
     "start_time": "2024-02-06T00:20:51.491787Z"
    },
    "collapsed": false,
    "jupyter": {
     "outputs_hidden": false
    }
   },
   "outputs": [
    {
     "name": "stdout",
     "output_type": "stream",
     "text": [
      "0    i know as parent of child with down syndrome t...\n",
      "1    but in my heart i know this is the future prom...\n",
      "2    i have mylefibrosis which turn to leukemia the...\n",
      "3    from one of my health group subject wayne dyer...\n",
      "4    gmos now link to leukemia http nsnbc i 2013 07...\n",
      "Name: posts, dtype: object\n"
     ]
    }
   ],
   "source": [
    "print(df['posts'].head())"
   ]
  },
  {
   "cell_type": "markdown",
   "id": "7c20e33227cac322",
   "metadata": {},
   "source": [
    "## Remove Punctuation"
   ]
  },
  {
   "cell_type": "markdown",
   "id": "abc938bfcd3ef727",
   "metadata": {},
   "source": [
    "Removing punctuation and special characters from text is high importance in sentiment analysis preparation. This practice not only reduces noise by eliminating elements that contribute minimally to semantic meaning but also ensures a uniform representation of text. The absence of punctuation enhances model generalization, preventing sensitivity to specific marks that may not be indicative of sentiment across the contexts"
   ]
  },
  {
   "cell_type": "code",
   "execution_count": 31,
   "id": "569d0b1c14628679",
   "metadata": {
    "ExecuteTime": {
     "end_time": "2024-02-06T00:20:51.669036Z",
     "start_time": "2024-02-06T00:20:51.532521Z"
    },
    "collapsed": false,
    "jupyter": {
     "outputs_hidden": false
    }
   },
   "outputs": [
    {
     "name": "stdout",
     "output_type": "stream",
     "text": [
      "0    i know as parent of child with down syndrome t...\n",
      "1    but in my heart i know this is the future prom...\n",
      "2    i have mylefibrosis which turn to leukemia the...\n",
      "3    from one of my health group subject wayne dyer...\n",
      "4    gmos now link to leukemia http nsnbc i 2013 07...\n",
      "Name: posts, dtype: object\n"
     ]
    }
   ],
   "source": [
    "import re \n",
    "# remove characters \n",
    "df['posts'] = df['posts'].replace(r'[^a-zA-Z0-9\\s]', '', regex=True)\n",
    "print(df['posts'].head())"
   ]
  },
  {
   "cell_type": "markdown",
   "id": "e29c5ef4d1a61604",
   "metadata": {},
   "source": [
    "## Remove Stop Words"
   ]
  },
  {
   "cell_type": "markdown",
   "id": "4ac75d95ae40518b",
   "metadata": {},
   "source": [
    " Stop words, such as common conjunctions and articles, often carry little meaning for sentiment. By excluding these frequently occurring but less informative words, the analysis can focus on the more content rich terms that contribute to expressing sentiment. This not only streamlines the dataset by reducing unnecessary words but also enhances the model's ability to discern words that are of more importance of the emotional tone within the text. The removal of stop words refines the quality of features and also contributes to improved computational efficiency during model training, as the model can prioritize words more likely to convey the sentiment, fostering a more accurate and sentiment analysis of the textual data. "
   ]
  },
  {
   "cell_type": "code",
   "execution_count": 34,
   "id": "42965c96d7781681",
   "metadata": {
    "ExecuteTime": {
     "end_time": "2024-02-06T00:20:53.615910Z",
     "start_time": "2024-02-06T00:20:51.601377Z"
    },
    "collapsed": false,
    "jupyter": {
     "outputs_hidden": false
    }
   },
   "outputs": [
    {
     "name": "stderr",
     "output_type": "stream",
     "text": [
      "[nltk_data] Downloading package stopwords to /Users/cantu/nltk_data...\n",
      "[nltk_data]   Package stopwords is already up-to-date!\n"
     ]
    },
    {
     "name": "stdout",
     "output_type": "stream",
     "text": [
      "0    know parent child syndrome hear child high ris...\n",
      "1    heart know future promise article regardless h...\n",
      "2    mylefibrosis turn leukemia want stem cell tran...\n",
      "3    one health group subject wayne dyer leukemia c...\n",
      "4    gmos link leukemia http nsnbc 2013 07 17 gmo l...\n",
      "Name: posts, dtype: object\n"
     ]
    }
   ],
   "source": [
    "import nltk\n",
    "from nltk.corpus import stopwords\n",
    "# download word list \n",
    "nltk.download('stopwords')\n",
    "# remove from post \n",
    "stop_words = stopwords.words('english')\n",
    "df['posts'] = df['posts'].apply(lambda x: ' '.join([word for word in x.split() if word not in stop_words])) # applies to each row in post \n",
    "print(df['posts'].head())"
   ]
  },
  {
   "cell_type": "markdown",
   "id": "760e476f9e105c28",
   "metadata": {},
   "source": [
    " ## Apply PorterStemmer "
   ]
  },
  {
   "cell_type": "markdown",
   "id": "a395766739775ecc",
   "metadata": {},
   "source": [
    "By applying the Porter Stemmer, variations of words are standardized, enabling a more unified representation of the text. This can be benefit in sentiment analysis as it ensures that different forms of a word  \"running\" and \"runner\" are treated as the same, enabling the model to generalize more effectively across variations. The stemming process can also contribute to the reduction of dimensionality in the dataset, making the text data more concise. "
   ]
  },
  {
   "cell_type": "code",
   "execution_count": 37,
   "id": "edccc75a7e4ed001",
   "metadata": {
    "ExecuteTime": {
     "end_time": "2024-02-06T00:21:01.168566Z",
     "start_time": "2024-02-06T00:20:53.639594Z"
    },
    "collapsed": false,
    "jupyter": {
     "outputs_hidden": false
    }
   },
   "outputs": [
    {
     "name": "stdout",
     "output_type": "stream",
     "text": [
      "0    know parent child syndrom hear child high risk...\n",
      "1    heart know futur promis articl regardless http...\n",
      "2    mylefibrosi turn leukemia want stem cell trans...\n",
      "3    one health group subject wayn dyer leukemia ca...\n",
      "4    gmo link leukemia http nsnbc 2013 07 17 gmo li...\n",
      "Name: posts, dtype: object\n"
     ]
    }
   ],
   "source": [
    "from nltk.stem import PorterStemmer\n",
    "# initialize\n",
    "port = PorterStemmer()\n",
    "\n",
    "# apply stemmer \n",
    "df['posts'] = df['posts'].apply(lambda x: ' '.join([port.stem(word) for word in x.split()])) # converts words to its root form\n",
    "print(df['posts'].head())"
   ]
  },
  {
   "cell_type": "markdown",
   "id": "9cc836f81fa85fb8",
   "metadata": {},
   "source": [
    "##  Data Preparation Summary  "
   ]
  },
  {
   "cell_type": "markdown",
   "id": "1f1d2b5fc163c512",
   "metadata": {},
   "source": [
    "the preprocessing steps undertaken have significantly enhanced the quality of our data. Trivial terms such as \"cancer\" and \"hospital\" were deliberately removed to ensure that the model focuses on more nuanced and meaningful content. To maintain consistency, all text in the \"post\" column was converted to lowercase.\n",
    "\n",
    "Punctuation marks were eliminated to facilitate noise reduction, allowing the model to better discern the underlying sentiment and intensity. Stop words, which often contribute minimal semantic value, were also removed, enabling the model to concentrate on contentM rich text that carries more weight in sentiment analysis.\n",
    "\n",
    "To generalize words across variations and ensure a broader understanding, the Porter Stemmer was applied. This step aids in capturing the root form of words, providing a holistic representation of the language used in the text responses.\n",
    "\n",
    "With these preprocessing steps completed, the data is now  prepared for the model, poised to deliver insightful predictions on sentiment and intensity in the given text responses. "
   ]
  },
  {
   "cell_type": "markdown",
   "id": "109a4e8770aad5d4",
   "metadata": {},
   "source": [
    "# Model building and evaluation"
   ]
  },
  {
   "cell_type": "markdown",
   "id": "d824268f32e7dabd",
   "metadata": {},
   "source": [
    "## Train and Test Sets"
   ]
  },
  {
   "cell_type": "markdown",
   "id": "64e0f018166272d2",
   "metadata": {},
   "source": [
    "This transformation is designed to partition the dataset into distinct training and test subsets, allocating 80% of the data for training purposes and reserving the remaining 20% for testing. Within this split, the feature variable \"post\" constitutes the input, denoted as X, while the target variables \"predicted\" and \"intensity\" are encompassed within the output, represented by y."
   ]
  },
  {
   "cell_type": "code",
   "execution_count": 43,
   "id": "8da7d31344c28d22",
   "metadata": {
    "ExecuteTime": {
     "end_time": "2024-02-06T00:21:01.237849Z",
     "start_time": "2024-02-06T00:21:01.200221Z"
    },
    "collapsed": false,
    "jupyter": {
     "outputs_hidden": false
    }
   },
   "outputs": [
    {
     "name": "stdout",
     "output_type": "stream",
     "text": [
      "Training set Feature:  (8313,)  Targets:  (8313, 2)\n",
      "Testing set Feature:  (2079,)  Targets:  (2079, 2)\n"
     ]
    }
   ],
   "source": [
    "from sklearn.model_selection import train_test_split\n",
    "# split the data \n",
    "X = df['posts'] # features \n",
    "y = df[['predicted', 'intensity']] # targets \n",
    "X_train, X_test, y_train, y_test = train_test_split(X, y, test_size=0.2, random_state=42)\n",
    "# shapes \n",
    "print(\"Training set Feature: \", X_train.shape, \" Targets: \", y_train.shape)\n",
    "print(\"Testing set Feature: \", X_test.shape, \" Targets: \", y_test.shape)\n"
   ]
  },
  {
   "cell_type": "markdown",
   "id": "fa82c41866152f6a",
   "metadata": {},
   "source": [
    "## TF-IDF vectorization"
   ]
  },
  {
   "cell_type": "markdown",
   "id": "22daaa9bd6c3d027",
   "metadata": {},
   "source": [
    "TF-IDF vectorization gives a versatile and efficient method for encoding text data in a sentiment analysis, enabling a model to discern the significance and scarcity of terms within sentiment classifications. Ensuring consistency and averting data leakage between training and test sets is paramount in machine learning. By fitting the TF-IDF vectorizer solely to the training set and subsequently applying it independently to both training and test sets, one mitigates data leakage risks, upholds the autonomy of training and test sets, fostering an accurate evaluation of the model's generalization capability on new data."
   ]
  },
  {
   "cell_type": "code",
   "execution_count": 46,
   "id": "bb263f53e273d16b",
   "metadata": {
    "ExecuteTime": {
     "end_time": "2024-02-06T00:21:02.958659Z",
     "start_time": "2024-02-06T00:21:01.331518Z"
    },
    "collapsed": false,
    "jupyter": {
     "outputs_hidden": false
    }
   },
   "outputs": [],
   "source": [
    "from sklearn.feature_extraction.text import TfidfVectorizer\n",
    "# initialize \n",
    "tfidf = TfidfVectorizer(max_features=100000, ngram_range=(1, 2)) # stop words and lower case already handled. \n",
    "# fit and transform the training\n",
    "X_train_tfidf = tfidf.fit_transform(X_train)\n",
    "# transform test set \n",
    "X_test_tfidf = tfidf.transform(X_test)\n"
   ]
  },
  {
   "cell_type": "markdown",
   "id": "bacce2c1dc3c9851",
   "metadata": {},
   "source": [
    "## Logistic Regression "
   ]
  },
  {
   "cell_type": "markdown",
   "id": "d6aefe753b6ff107",
   "metadata": {},
   "source": []
  },
  {
   "cell_type": "markdown",
   "id": "a1bc0a63b73cb088",
   "metadata": {},
   "source": [
    "Training a logistic regression model using the training data is advantageous for several reasons. Its interpretability allows clear understanding of feature influences, aiding model transparency. Logistic regression is computationally efficient and scales well with data size and dimensionality. With built-in regularization, it mitigates over fitting risks. Suited for binary classification tasks as in sentiment analysis, it offers probabilistic predictions for nuanced decision-making. Logistic regression serves as a robust baseline model for classification, balancing simplicity, interpretability, and performance.\n"
   ]
  },
  {
   "cell_type": "code",
   "execution_count": 50,
   "id": "fbb9233180c289c0",
   "metadata": {
    "ExecuteTime": {
     "end_time": "2024-02-06T00:21:11.271557Z",
     "start_time": "2024-02-06T00:21:02.961660Z"
    },
    "collapsed": false,
    "jupyter": {
     "outputs_hidden": false
    }
   },
   "outputs": [
    {
     "data": {
      "text/html": [
       "<style>#sk-container-id-1 {color: black;}#sk-container-id-1 pre{padding: 0;}#sk-container-id-1 div.sk-toggleable {background-color: white;}#sk-container-id-1 label.sk-toggleable__label {cursor: pointer;display: block;width: 100%;margin-bottom: 0;padding: 0.3em;box-sizing: border-box;text-align: center;}#sk-container-id-1 label.sk-toggleable__label-arrow:before {content: \"▸\";float: left;margin-right: 0.25em;color: #696969;}#sk-container-id-1 label.sk-toggleable__label-arrow:hover:before {color: black;}#sk-container-id-1 div.sk-estimator:hover label.sk-toggleable__label-arrow:before {color: black;}#sk-container-id-1 div.sk-toggleable__content {max-height: 0;max-width: 0;overflow: hidden;text-align: left;background-color: #f0f8ff;}#sk-container-id-1 div.sk-toggleable__content pre {margin: 0.2em;color: black;border-radius: 0.25em;background-color: #f0f8ff;}#sk-container-id-1 input.sk-toggleable__control:checked~div.sk-toggleable__content {max-height: 200px;max-width: 100%;overflow: auto;}#sk-container-id-1 input.sk-toggleable__control:checked~label.sk-toggleable__label-arrow:before {content: \"▾\";}#sk-container-id-1 div.sk-estimator input.sk-toggleable__control:checked~label.sk-toggleable__label {background-color: #d4ebff;}#sk-container-id-1 div.sk-label input.sk-toggleable__control:checked~label.sk-toggleable__label {background-color: #d4ebff;}#sk-container-id-1 input.sk-hidden--visually {border: 0;clip: rect(1px 1px 1px 1px);clip: rect(1px, 1px, 1px, 1px);height: 1px;margin: -1px;overflow: hidden;padding: 0;position: absolute;width: 1px;}#sk-container-id-1 div.sk-estimator {font-family: monospace;background-color: #f0f8ff;border: 1px dotted black;border-radius: 0.25em;box-sizing: border-box;margin-bottom: 0.5em;}#sk-container-id-1 div.sk-estimator:hover {background-color: #d4ebff;}#sk-container-id-1 div.sk-parallel-item::after {content: \"\";width: 100%;border-bottom: 1px solid gray;flex-grow: 1;}#sk-container-id-1 div.sk-label:hover label.sk-toggleable__label {background-color: #d4ebff;}#sk-container-id-1 div.sk-serial::before {content: \"\";position: absolute;border-left: 1px solid gray;box-sizing: border-box;top: 0;bottom: 0;left: 50%;z-index: 0;}#sk-container-id-1 div.sk-serial {display: flex;flex-direction: column;align-items: center;background-color: white;padding-right: 0.2em;padding-left: 0.2em;position: relative;}#sk-container-id-1 div.sk-item {position: relative;z-index: 1;}#sk-container-id-1 div.sk-parallel {display: flex;align-items: stretch;justify-content: center;background-color: white;position: relative;}#sk-container-id-1 div.sk-item::before, #sk-container-id-1 div.sk-parallel-item::before {content: \"\";position: absolute;border-left: 1px solid gray;box-sizing: border-box;top: 0;bottom: 0;left: 50%;z-index: -1;}#sk-container-id-1 div.sk-parallel-item {display: flex;flex-direction: column;z-index: 1;position: relative;background-color: white;}#sk-container-id-1 div.sk-parallel-item:first-child::after {align-self: flex-end;width: 50%;}#sk-container-id-1 div.sk-parallel-item:last-child::after {align-self: flex-start;width: 50%;}#sk-container-id-1 div.sk-parallel-item:only-child::after {width: 0;}#sk-container-id-1 div.sk-dashed-wrapped {border: 1px dashed gray;margin: 0 0.4em 0.5em 0.4em;box-sizing: border-box;padding-bottom: 0.4em;background-color: white;}#sk-container-id-1 div.sk-label label {font-family: monospace;font-weight: bold;display: inline-block;line-height: 1.2em;}#sk-container-id-1 div.sk-label-container {text-align: center;}#sk-container-id-1 div.sk-container {/* jupyter's `normalize.less` sets `[hidden] { display: none; }` but bootstrap.min.css set `[hidden] { display: none !important; }` so we also need the `!important` here to be able to override the default hidden behavior on the sphinx rendered scikit-learn.org. See: https://github.com/scikit-learn/scikit-learn/issues/21755 */display: inline-block !important;position: relative;}#sk-container-id-1 div.sk-text-repr-fallback {display: none;}</style><div id=\"sk-container-id-1\" class=\"sk-top-container\"><div class=\"sk-text-repr-fallback\"><pre>LogisticRegression(max_iter=1000)</pre><b>In a Jupyter environment, please rerun this cell to show the HTML representation or trust the notebook. <br />On GitHub, the HTML representation is unable to render, please try loading this page with nbviewer.org.</b></div><div class=\"sk-container\" hidden><div class=\"sk-item\"><div class=\"sk-estimator sk-toggleable\"><input class=\"sk-toggleable__control sk-hidden--visually\" id=\"sk-estimator-id-1\" type=\"checkbox\" checked><label for=\"sk-estimator-id-1\" class=\"sk-toggleable__label sk-toggleable__label-arrow\">LogisticRegression</label><div class=\"sk-toggleable__content\"><pre>LogisticRegression(max_iter=1000)</pre></div></div></div></div></div>"
      ],
      "text/plain": [
       "LogisticRegression(max_iter=1000)"
      ]
     },
     "execution_count": 50,
     "metadata": {},
     "output_type": "execute_result"
    }
   ],
   "source": [
    "from sklearn.linear_model import LogisticRegression\n",
    "# initialize 2 models \n",
    "logistic_regression_sentiment = LogisticRegression(max_iter=1000)\n",
    "logistic_regression_intensity = LogisticRegression(max_iter=1000)\n",
    "# train the models \n",
    "logistic_regression_sentiment.fit(X_train_tfidf, y_train['predicted'])\n",
    "logistic_regression_intensity.fit(X_train_tfidf, y_train['intensity'])\n"
   ]
  },
  {
   "cell_type": "markdown",
   "id": "da609769c9fc6cc7",
   "metadata": {},
   "source": [
    "### Accuracy "
   ]
  },
  {
   "cell_type": "markdown",
   "id": "d629d47a69f5dccc",
   "metadata": {},
   "source": []
  },
  {
   "cell_type": "code",
   "execution_count": 53,
   "id": "4aaccbc006a3fb45",
   "metadata": {
    "ExecuteTime": {
     "end_time": "2024-02-06T00:21:11.317304Z",
     "start_time": "2024-02-06T00:21:11.272027Z"
    },
    "collapsed": false,
    "jupyter": {
     "outputs_hidden": false
    }
   },
   "outputs": [
    {
     "name": "stdout",
     "output_type": "stream",
     "text": [
      "Sentiment Accuracy: 0.7224627224627225\n",
      "Intensity Accuracy: 0.7224627224627225\n"
     ]
    }
   ],
   "source": [
    "from sklearn.metrics import accuracy_score\n",
    "# predict sentiment \n",
    "y_sentiment_predicted = logistic_regression_sentiment.predict(X_test_tfidf)\n",
    "# predict intensity \n",
    "y_intensity_predicted = logistic_regression_intensity.predict(X_test_tfidf)\n",
    "\n",
    "# calculate accuracy \n",
    "accuracy_sentiment = accuracy_score(y_test['predicted'], y_sentiment_predicted)\n",
    "\n",
    "# calculate accuracy \n",
    "accuracy_intensity = accuracy_score(y_test['intensity'], y_intensity_predicted)\n",
    "\n",
    "print(\"Sentiment Accuracy:\", accuracy_sentiment)\n",
    "print(\"Intensity Accuracy:\", accuracy_intensity)\n"
   ]
  },
  {
   "cell_type": "markdown",
   "id": "c91d997cc2b935c1",
   "metadata": {},
   "source": [
    "## Confusion Matrix "
   ]
  },
  {
   "cell_type": "markdown",
   "id": "22823047abcaac05",
   "metadata": {},
   "source": [
    "confusion matrix provides a visual representation of how well the models classify instances into different categories, such as positive/negative sentiment or low/high intensity. By examining the matrix, one can identify specific types of errors made by the models, including false positives, false negatives, true positives, and true negatives. This insight is invaluable for understanding the models' behavior and guiding further refinement"
   ]
  },
  {
   "cell_type": "code",
   "execution_count": 56,
   "id": "ca58e08e24e53a41",
   "metadata": {
    "ExecuteTime": {
     "end_time": "2024-02-06T00:21:11.573717Z",
     "start_time": "2024-02-06T00:21:11.284238Z"
    },
    "collapsed": false,
    "jupyter": {
     "outputs_hidden": false
    }
   },
   "outputs": [
    {
     "data": {
      "image/png": "[encoded data removed]",
      "text/plain": [
       "<Figure size 800x600 with 1 Axes>"
      ]
     },
     "metadata": {},
     "output_type": "display_data"
    },
    {
     "data": {
      "image/png": "[encoded data removed]",
      "text/plain": [
       "<Figure size 800x600 with 1 Axes>"
      ]
     },
     "metadata": {},
     "output_type": "display_data"
    }
   ],
   "source": [
    "from sklearn.metrics import confusion_matrix\n",
    "import matplotlib.pyplot as plt\n",
    "import seaborn as sns\n",
    "\n",
    "# confusion matrix for sentiment prediction\n",
    "conf_matrix_sentiment = confusion_matrix(y_test['predicted'], y_sentiment_predicted)\n",
    "# confusion matrix for intensity prediction\n",
    "conf_matrix_intensity = confusion_matrix(y_test['intensity'], y_intensity_predicted)\n",
    "\n",
    "# plot sentiment\n",
    "plt.figure(figsize=(8, 6))\n",
    "sns.heatmap(conf_matrix_sentiment, annot=True, fmt='d', cmap='Blues', cbar=False)\n",
    "plt.xlabel('Predicted Labels')\n",
    "plt.ylabel('True Labels')\n",
    "plt.title('Confusion Matrix - Sentiment Prediction')\n",
    "plt.show()\n",
    "\n",
    "# plot intensity \n",
    "plt.figure(figsize=(8, 6))\n",
    "sns.heatmap(conf_matrix_intensity, annot=True, fmt='d', cmap='Blues', cbar=False)\n",
    "plt.xlabel('Predicted Labels')\n",
    "plt.ylabel('True Labels')\n",
    "plt.title('Confusion Matrix - Intensity Prediction')\n",
    "plt.show()"
   ]
  },
  {
   "cell_type": "markdown",
   "id": "7305b643b443cd3e",
   "metadata": {},
   "source": [
    "## Precision, Recall, and F1-score"
   ]
  },
  {
   "cell_type": "markdown",
   "id": "d6e40b2f0e680194",
   "metadata": {},
   "source": [
    "precision, recall, and F1-score collectively provide insights into different aspects of a classifier's performance. They help in understanding how well the model identifies positive instances (recall), how accurately it predicts positive instances (precision), and how balanced it is between precision and recall (F1-score)"
   ]
  },
  {
   "cell_type": "code",
   "execution_count": 59,
   "id": "66bb116966444235",
   "metadata": {
    "ExecuteTime": {
     "end_time": "2024-02-06T00:21:11.575667Z",
     "start_time": "2024-02-06T00:21:11.428016Z"
    },
    "collapsed": false,
    "jupyter": {
     "outputs_hidden": false
    }
   },
   "outputs": [
    {
     "name": "stdout",
     "output_type": "stream",
     "text": [
      "Sentiment Prediction Metrics:\n",
      "Precision: 0.7242501734552278\n",
      "Recall: 0.7224627224627225\n",
      "F1-score: 0.7081399914365307\n",
      "\n",
      "Intensity Prediction Metrics:\n",
      "Precision: 0.7242501734552278\n",
      "Recall: 0.7224627224627225\n",
      "F1-score: 0.7081399914365307\n"
     ]
    }
   ],
   "source": [
    "from sklearn.metrics import precision_score, recall_score, f1_score\n",
    "# for sentiment \n",
    "precision_sentiment = precision_score(y_test['predicted'],y_sentiment_predicted, average='weighted')\n",
    "recall_sentiment = recall_score(y_test['predicted'],y_sentiment_predicted, average='weighted')\n",
    "f1_score_sentiment = f1_score(y_test['predicted'],y_sentiment_predicted, average='weighted')\n",
    "# for intensity \n",
    "precision_intensity = precision_score(y_test['intensity'],y_intensity_predicted, average='weighted')\n",
    "recall_intensity = recall_score(y_test['intensity'],y_intensity_predicted, average='weighted')\n",
    "f1_score_intensity = f1_score(y_test['intensity'],y_intensity_predicted, average='weighted')\n",
    "\n",
    "print(\"Sentiment Prediction Metrics:\")\n",
    "print(\"Precision:\", precision_sentiment)\n",
    "print(\"Recall:\", recall_sentiment)\n",
    "print(\"F1-score:\", f1_score_sentiment)\n",
    "print(\"\\nIntensity Prediction Metrics:\")\n",
    "print(\"Precision:\", precision_intensity)\n",
    "print(\"Recall:\", recall_intensity)\n",
    "print(\"F1-score:\", f1_score_intensity)\n"
   ]
  },
  {
   "cell_type": "markdown",
   "id": "3e486eb166a262f8",
   "metadata": {},
   "source": [
    "# Summary "
   ]
  },
  {
   "cell_type": "markdown",
   "id": "ee409832b2a5e3d4",
   "metadata": {},
   "source": []
  },
  {
   "cell_type": "markdown",
   "id": "d0f0b5a0cde8be7f",
   "metadata": {},
   "source": [
    "The sentiment and intensity prediction models both achieve an accuracy rate of approximately 72.25%, indicating their ability to correctly classify instances in the test dataset. Precision, recall, and F1-score metrics, which measure the models' precision-recall balance, align closely between the two tasks, hovering around 0.724. These metrics collectively suggest that the models effectively balance precision and recall in their predictions. While the models exhibit consistent performance, there's room for further analysis to identify areas of improvement and refine the models predictive capabilities. Examining misclassifications and exploring domain-specific features could offer insights to enhance the models effectiveness in sentiment and intensity prediction tasks. Additionally, hyperparameter tuning presents a method to systematically optimize model performance by identifying the best hyperparameter configurations, potentially leading to improved accuracy and generalization on unseen data.The performance of the sentiment and intensity prediction models, with an accuracy  72.25% and balanced precision-recall metrics, suggests that the models do identify mental health sentiment in patients."
   ]
  }
 ],
 "metadata": {
  "kernelspec": {
   "display_name": "Python 3 (ipykernel)",
   "language": "python",
   "name": "python3"
  },
  "language_info": {
   "codemirror_mode": {
    "name": "ipython",
    "version": 3
   },
   "file_extension": ".py",
   "mimetype": "text/x-python",
   "name": "python",
   "nbconvert_exporter": "python",
   "pygments_lexer": "ipython3",
   "version": "3.11.4"
  }
 },
 "nbformat": 4,
 "nbformat_minor": 5
}
